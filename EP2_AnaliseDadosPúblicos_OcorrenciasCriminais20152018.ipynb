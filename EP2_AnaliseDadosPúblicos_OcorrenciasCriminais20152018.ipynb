{
 "cells": [
  {
   "cell_type": "markdown",
   "metadata": {},
   "source": [
    "# Ocorrências criminais de cada estado brasileiro entre os anos de 2015 a 2018\n",
    "Análise de dados públicos utilizando-se da biblioteca Pandas para extrair informações sobre o total de ocorrências criminais por estado brasileiro."
   ]
  },
  {
   "cell_type": "markdown",
   "metadata": {},
   "source": [
    "### 1. Importando bibliotecas, declarando váriaveis responsáveis pelo caminho do arquivo .xlsx e definindo os objetos dos gráficos de cada região brasileira."
   ]
  },
  {
   "cell_type": "code",
   "execution_count": 1,
   "metadata": {},
   "outputs": [],
   "source": [
    "import pandas as pd\n",
    "import matplotlib.pyplot as plt\n",
    "\n",
    "#files xlsx sudeste\n",
    "xlsx_sp_file = 'sudeste/sp---dadospublicos.xlsx'\n",
    "xlsx_rj_file = 'sudeste/rj---dadospublicos.xlsx'\n",
    "xlsx_mg_file = 'sudeste/mg---dadospublicos.xlsx'\n",
    "xlsx_es_file = 'sudeste/es---dadospublicos.xlsx'\n",
    "\n",
    "#files xlsx sul\n",
    "xlsx_pr_file = 'sul/pr---dadospublicos.xlsx'\n",
    "xlsx_rs_file = 'sul/rs---dadospublicos.xlsx'\n",
    "xlsx_sc_file = 'sul/sc---dadospublicos.xlsx'\n",
    "\n",
    "#files xlsx centro oeste\n",
    "xlsx_df_file = 'centro-oeste/df---dadospublicos.xlsx'\n",
    "xlsx_go_file = 'centro-oeste/go---dadospublicos.xlsx'\n",
    "xlsx_ms_file = 'centro-oeste/ms---dadospublicos.xlsx'\n",
    "xlsx_mt_file = 'centro-oeste/mt---dadospublicos.xlsx'\n",
    "\n",
    "#files xlsx nordeste\n",
    "xlsx_al_file = 'nordeste/al---dadospublicos.xlsx'\n",
    "xlsx_ba_file = 'nordeste/ba---dadospublicos.xlsx'\n",
    "xlsx_ce_file = 'nordeste/ce---dadospublicos.xlsx'\n",
    "xlsx_ma_file = 'nordeste/ma---dadospublicos.xlsx'\n",
    "xlsx_pb_file = 'nordeste/pb---dadospublicos.xlsx'\n",
    "xlsx_pe_file = 'nordeste/pe---dadospublicos.xlsx'\n",
    "xlsx_pi_file = 'nordeste/pi---dadospublicos.xlsx'\n",
    "xlsx_rn_file = 'nordeste/rn---dadospublicos.xlsx'\n",
    "xlsx_se_file = 'nordeste/se---dadospublicos.xlsx'\n",
    "\n",
    "#files xlsx norte\n",
    "xlsx_ac_file = 'norte/ac---dadospublicos.xlsx'\n",
    "xlsx_am_file = 'norte/am---dadospublicos.xlsx'\n",
    "xlsx_ap_file = 'norte/ap---dadospublicos.xlsx'\n",
    "xlsx_pa_file = 'norte/pa---dadospublicos.xlsx'\n",
    "xlsx_ro_file = 'norte/ro---dadospublicos.xlsx'\n",
    "xlsx_rr_file = 'norte/rr---dadospublicos.xlsx'\n",
    "xlsx_to_file = 'norte/to---dadospublicos.xlsx'\n",
    "\n",
    "names = 'UF', 'Tipo de crime', 'Mês/Ano', 'Total de ocorrências'\n",
    "\n",
    "#objects sudeste\n",
    "sudeste = 'SP', 'RJ', 'MG', 'ES'\n",
    "\n",
    "#objects sul\n",
    "sul = 'PA', 'RS', 'SC'\n",
    "\n",
    "#objects centro oeste\n",
    "centro = 'DF', 'GO', 'MS', 'MT'\n",
    "\n",
    "#objects nordeste\n",
    "nordeste = 'AL', 'BA', 'CE', 'MA', 'PB', 'PE', 'PI', 'RN', 'SE'\n",
    "\n",
    "#objects norte\n",
    "norte = 'AC', 'AM', 'AP', 'PA', 'RO', 'RR', 'TO'"
   ]
  },
  {
   "cell_type": "markdown",
   "metadata": {},
   "source": [
    "### 2. Utilizando a sintaxe *read_excel* para leitura da tabela dos arquivos .xlsx, definindo alguns parâmetros e organizando informações."
   ]
  },
  {
   "cell_type": "code",
   "execution_count": 2,
   "metadata": {},
   "outputs": [],
   "source": [
    "#read_excel sudeste\n",
    "sp = pd.read_excel(xlsx_sp_file,\n",
    "                   sheet_name='Ocorrências',\n",
    "                   sep=',',\n",
    "                   delimiter=';',\n",
    "                   encoding='iso-8859-1',\n",
    "                   names=names)\n",
    "\n",
    "rj = pd.read_excel(xlsx_rj_file,\n",
    "                   sheet_name='Ocorrências',\n",
    "                   sep=',',\n",
    "                   delimiter=';',\n",
    "                   encoding='iso-8859-1',\n",
    "                   names=names)\n",
    "\n",
    "mg = pd.read_excel(xlsx_mg_file,\n",
    "                   sheet_name='Ocorrências',\n",
    "                   sep=',',\n",
    "                   delimiter=';',\n",
    "                   encoding='iso-8859-1',\n",
    "                   names=names)\n",
    "\n",
    "es = pd.read_excel(xlsx_es_file,\n",
    "                   sheet_name='Ocorrências',\n",
    "                   sep=',',\n",
    "                   delimiter=';',\n",
    "                   encoding='iso-8859-1',\n",
    "                   names=names)\n",
    "\n",
    "#read_excel sul\n",
    "pr = pd.read_excel(xlsx_pr_file,\n",
    "                   sheet_name='Ocorrências',\n",
    "                   sep=',',\n",
    "                   delimiter=';',\n",
    "                   encoding='iso-8859-1',\n",
    "                   names=names)\n",
    "\n",
    "rs = pd.read_excel(xlsx_rs_file,\n",
    "                   sheet_name='Ocorrências',\n",
    "                   sep=',',\n",
    "                   delimiter=';',\n",
    "                   encoding='iso-8859-1',\n",
    "                   names=names)\n",
    "\n",
    "sc = pd.read_excel(xlsx_sc_file,\n",
    "                   sheet_name='Ocorrências',\n",
    "                   sep=',',\n",
    "                   delimiter=';',\n",
    "                   encoding='iso-8859-1',\n",
    "                   names=names)\n",
    "\n",
    "#read_excel centro oeste\n",
    "df = pd.read_excel(xlsx_df_file,\n",
    "                   sheet_name='Ocorrências',\n",
    "                   sep=',',\n",
    "                   delimiter=';',\n",
    "                   encoding='iso-8859-1',\n",
    "                   names=names)\n",
    "\n",
    "go = pd.read_excel(xlsx_go_file,\n",
    "                   sheet_name='Ocorrências',\n",
    "                   sep=',',\n",
    "                   delimiter=';',\n",
    "                   encoding='iso-8859-1',\n",
    "                   names=names)\n",
    "\n",
    "ms = pd.read_excel(xlsx_ms_file,\n",
    "                   sheet_name='Ocorrências',\n",
    "                   sep=',',\n",
    "                   delimiter=';',\n",
    "                   encoding='iso-8859-1',\n",
    "                   names=names)\n",
    "\n",
    "mt = pd.read_excel(xlsx_mt_file,\n",
    "                   sheet_name='Ocorrências',\n",
    "                   sep=',',\n",
    "                   delimiter=';',\n",
    "                   encoding='iso-8859-1',\n",
    "                   names=names)\n",
    "\n",
    "#read_excel nordeste\n",
    "al = pd.read_excel(xlsx_al_file,\n",
    "                   sheet_name='Ocorrências',\n",
    "                   sep=',',\n",
    "                   delimiter=';',\n",
    "                   encoding='iso-8859-1',\n",
    "                   names=names)\n",
    "\n",
    "ba = pd.read_excel(xlsx_ba_file,\n",
    "                   sheet_name='Ocorrências',\n",
    "                   sep=',',\n",
    "                   delimiter=';',\n",
    "                   encoding='iso-8859-1',\n",
    "                   names=names)\n",
    "\n",
    "ce = pd.read_excel(xlsx_ce_file,\n",
    "                   sheet_name='Ocorrências',\n",
    "                   sep=',',\n",
    "                   delimiter=';',\n",
    "                   encoding='iso-8859-1',\n",
    "                   names=names)\n",
    "\n",
    "ma = pd.read_excel(xlsx_ma_file,\n",
    "                   sheet_name='Ocorrências',\n",
    "                   sep=',',\n",
    "                   delimiter=';',\n",
    "                   encoding='iso-8859-1',\n",
    "                   names=names)\n",
    "\n",
    "pb = pd.read_excel(xlsx_pb_file,\n",
    "                   sheet_name='Ocorrências',\n",
    "                   sep=',',\n",
    "                   delimiter=';',\n",
    "                   encoding='iso-8859-1',\n",
    "                   names=names)\n",
    "\n",
    "pe = pd.read_excel(xlsx_pe_file,\n",
    "                   sheet_name='Ocorrências',\n",
    "                   sep=',',\n",
    "                   delimiter=';',\n",
    "                   encoding='iso-8859-1',\n",
    "                   names=names)\n",
    "\n",
    "pi = pd.read_excel(xlsx_pi_file,\n",
    "                   sheet_name='Ocorrências',\n",
    "                   sep=',',\n",
    "                   delimiter=';',\n",
    "                   encoding='iso-8859-1',\n",
    "                   names=names)\n",
    "\n",
    "rn = pd.read_excel(xlsx_rn_file,\n",
    "                   sheet_name='Ocorrências',\n",
    "                   sep=',',\n",
    "                   delimiter=';',\n",
    "                   encoding='iso-8859-1',\n",
    "                   names=names)\n",
    "\n",
    "se = pd.read_excel(xlsx_se_file,\n",
    "                   sheet_name='Ocorrências',\n",
    "                   sep=',',\n",
    "                   delimiter=';',\n",
    "                   encoding='iso-8859-1',\n",
    "                   names=names)\n",
    "\n",
    "#read_excel norte\n",
    "ac = pd.read_excel(xlsx_ac_file,\n",
    "                   sheet_name='Ocorrências',\n",
    "                   sep=',',\n",
    "                   delimiter=';',\n",
    "                   encoding='iso-8859-1',\n",
    "                   names=names)\n",
    "\n",
    "am = pd.read_excel(xlsx_am_file,\n",
    "                   sheet_name='Ocorrências',\n",
    "                   sep=',',\n",
    "                   delimiter=';',\n",
    "                   encoding='iso-8859-1',\n",
    "                   names=names)\n",
    "\n",
    "ap = pd.read_excel(xlsx_ap_file,\n",
    "                   sheet_name='Ocorrências',\n",
    "                   sep=',',\n",
    "                   delimiter=';',\n",
    "                   encoding='iso-8859-1',\n",
    "                   names=names)\n",
    "\n",
    "pa = pd.read_excel(xlsx_pa_file,\n",
    "                   sheet_name='Ocorrências',\n",
    "                   sep=',',\n",
    "                   delimiter=';',\n",
    "                   encoding='iso-8859-1',\n",
    "                   names=names)\n",
    "\n",
    "ro = pd.read_excel(xlsx_ro_file,\n",
    "                   sheet_name='Ocorrências',\n",
    "                   sep=',',\n",
    "                   delimiter=';',\n",
    "                   encoding='iso-8859-1',\n",
    "                   names=names)\n",
    "\n",
    "rr = pd.read_excel(xlsx_rr_file,\n",
    "                   sheet_name='Ocorrências',\n",
    "                   sep=',',\n",
    "                   delimiter=';',\n",
    "                   encoding='iso-8859-1',\n",
    "                   names=names)\n",
    "\n",
    "to = pd.read_excel(xlsx_to_file,\n",
    "                   sheet_name='Ocorrências',\n",
    "                   sep=',',\n",
    "                   delimiter=';',\n",
    "                   encoding='iso-8859-1',\n",
    "                   names=names)"
   ]
  },
  {
   "cell_type": "markdown",
   "metadata": {},
   "source": [
    "### 3. Visualizando um exemplo de tabela do estado de São Paulo."
   ]
  },
  {
   "cell_type": "code",
   "execution_count": 3,
   "metadata": {},
   "outputs": [
    {
     "data": {
      "text/html": [
       "<div>\n",
       "<style scoped>\n",
       "    .dataframe tbody tr th:only-of-type {\n",
       "        vertical-align: middle;\n",
       "    }\n",
       "\n",
       "    .dataframe tbody tr th {\n",
       "        vertical-align: top;\n",
       "    }\n",
       "\n",
       "    .dataframe thead th {\n",
       "        text-align: right;\n",
       "    }\n",
       "</style>\n",
       "<table border=\"1\" class=\"dataframe\">\n",
       "  <thead>\n",
       "    <tr style=\"text-align: right;\">\n",
       "      <th></th>\n",
       "      <th>UF</th>\n",
       "      <th>Tipo de crime</th>\n",
       "      <th>Mês/Ano</th>\n",
       "      <th>Total de ocorrências</th>\n",
       "    </tr>\n",
       "  </thead>\n",
       "  <tbody>\n",
       "    <tr>\n",
       "      <th>0</th>\n",
       "      <td>São Paulo</td>\n",
       "      <td>Estupro</td>\n",
       "      <td>01/2015</td>\n",
       "      <td>828</td>\n",
       "    </tr>\n",
       "    <tr>\n",
       "      <th>1</th>\n",
       "      <td>São Paulo</td>\n",
       "      <td>Estupro</td>\n",
       "      <td>02/2015</td>\n",
       "      <td>722</td>\n",
       "    </tr>\n",
       "    <tr>\n",
       "      <th>2</th>\n",
       "      <td>São Paulo</td>\n",
       "      <td>Estupro</td>\n",
       "      <td>03/2015</td>\n",
       "      <td>872</td>\n",
       "    </tr>\n",
       "    <tr>\n",
       "      <th>3</th>\n",
       "      <td>São Paulo</td>\n",
       "      <td>Estupro</td>\n",
       "      <td>04/2015</td>\n",
       "      <td>742</td>\n",
       "    </tr>\n",
       "    <tr>\n",
       "      <th>4</th>\n",
       "      <td>São Paulo</td>\n",
       "      <td>Estupro</td>\n",
       "      <td>05/2015</td>\n",
       "      <td>687</td>\n",
       "    </tr>\n",
       "  </tbody>\n",
       "</table>\n",
       "</div>"
      ],
      "text/plain": [
       "          UF Tipo de crime  Mês/Ano  Total de ocorrências\n",
       "0  São Paulo       Estupro  01/2015                   828\n",
       "1  São Paulo       Estupro  02/2015                   722\n",
       "2  São Paulo       Estupro  03/2015                   872\n",
       "3  São Paulo       Estupro  04/2015                   742\n",
       "4  São Paulo       Estupro  05/2015                   687"
      ]
     },
     "execution_count": 3,
     "metadata": {},
     "output_type": "execute_result"
    }
   ],
   "source": [
    "sp.head()"
   ]
  },
  {
   "cell_type": "markdown",
   "metadata": {},
   "source": [
    "### 4. Somando o total de ocorrências criminais de cada estado brasileiro durante o ano de 2015 a 2018."
   ]
  },
  {
   "cell_type": "code",
   "execution_count": 4,
   "metadata": {},
   "outputs": [],
   "source": [
    "#sum estado sudeste\n",
    "total_estado_sudeste = []\n",
    "\n",
    "sp_sum = sum(sp['Total de ocorrências'])\n",
    "rj_sum = sum(rj['Total de ocorrências'])\n",
    "mg_sum = sum(mg['Total de ocorrências'])\n",
    "es_sum = sum(es['Total de ocorrências'])\n",
    "\n",
    "total_estado_sudeste = sp_sum, rj_sum, mg_sum, es_sum\n",
    "\n",
    "#sum estado sul\n",
    "total_estado_sul = []\n",
    "\n",
    "pr_sum = sum(pr['Total de ocorrências'])\n",
    "rs_sum = sum(rs['Total de ocorrências'])\n",
    "sc_sum = sum(sc['Total de ocorrências'])\n",
    "\n",
    "total_estado_sul = pr_sum, rs_sum, sc_sum\n",
    "\n",
    "#sum estado centro oeste\n",
    "total_estado_centro = []\n",
    "\n",
    "df_sum = sum(df['Total de ocorrências'])\n",
    "go_sum = sum(go['Total de ocorrências'])\n",
    "ms_sum = sum(ms['Total de ocorrências'])\n",
    "mt_sum = sum(mt['Total de ocorrências'])\n",
    "\n",
    "total_estado_centro = df_sum, go_sum, ms_sum, mt_sum\n",
    "\n",
    "#sum estado nordeste\n",
    "total_estado_nordeste = []\n",
    "\n",
    "al_sum = sum(al['Total de ocorrências'])\n",
    "ba_sum = sum(ba['Total de ocorrências'])\n",
    "ce_sum = sum(ce['Total de ocorrências'])\n",
    "ma_sum = sum(ma['Total de ocorrências'])\n",
    "pb_sum = sum(pb['Total de ocorrências'])\n",
    "pe_sum = sum(pe['Total de ocorrências'])\n",
    "pi_sum = sum(pi['Total de ocorrências'])\n",
    "rn_sum = sum(rn['Total de ocorrências'])\n",
    "se_sum = sum(se['Total de ocorrências'])\n",
    "\n",
    "total_estado_nordeste = al_sum, ba_sum, ce_sum, ma_sum, pb_sum, pe_sum, pi_sum, rn_sum, se_sum\n",
    "\n",
    "#sum estado norte\n",
    "total_estado_norte = []\n",
    "\n",
    "ac_sum = sum(ac['Total de ocorrências'])\n",
    "am_sum = sum(am['Total de ocorrências'])\n",
    "ap_sum = sum(ap['Total de ocorrências'])\n",
    "pa_sum = sum(pa['Total de ocorrências'])\n",
    "ro_sum = sum(ro['Total de ocorrências'])\n",
    "rr_sum = sum(rr['Total de ocorrências'])\n",
    "to_sum = sum(to['Total de ocorrências'])\n",
    "\n",
    "total_estado_norte = ac_sum, am_sum, ap_sum, pa_sum, ro_sum, rr_sum, to_sum"
   ]
  },
  {
   "cell_type": "markdown",
   "metadata": {},
   "source": [
    "### 5. Atribuindo o total de cada estado para devida variável região *total_estado_\"nomeregião\"*."
   ]
  },
  {
   "cell_type": "code",
   "execution_count": 5,
   "metadata": {},
   "outputs": [
    {
     "name": "stdout",
     "output_type": "stream",
     "text": [
      "Região Sudeste =>  (818435, 312418, 193328, 49031)\n",
      "Região Sul =>  (146221, 172501, 76440)\n",
      "Região Centro-Oeste =>  (50502, 114772, 30580, 39981)\n",
      "Região Nordeste =>  (29220, 125526, 88238, 46557, 21355, 122400, 30254, 39456, 22311)\n",
      "Região Norte =>  (4916, 34047, 8201, 76913, 27785, 7196, 15375)\n"
     ]
    }
   ],
   "source": [
    "print('Região Sudeste => ', total_estado_sudeste)\n",
    "print('Região Sul => ', total_estado_sul)\n",
    "print('Região Centro-Oeste => ', total_estado_centro)\n",
    "print('Região Nordeste => ', total_estado_nordeste)\n",
    "print('Região Norte => ', total_estado_norte)"
   ]
  },
  {
   "cell_type": "markdown",
   "metadata": {},
   "source": [
    "### 6. Com as informações organizadas, foi utilizado o matplot para gerar os gráficos para cada região brasileira, sendo possível visualizar as regiões e os estados que mais tiveram ocorrências criminais entre o ano de 2015 a 2018."
   ]
  },
  {
   "cell_type": "markdown",
   "metadata": {},
   "source": [
    "#### 6.1. Ocorrências criminais da região Sudeste - entre os anos de 2015 a 2018."
   ]
  },
  {
   "cell_type": "code",
   "execution_count": 6,
   "metadata": {},
   "outputs": [
    {
     "data": {
      "image/png": "[encoded data removed]",
      "text/plain": [
       "<Figure size 432x288 with 1 Axes>"
      ]
     },
     "metadata": {
      "needs_background": "light"
     },
     "output_type": "display_data"
    }
   ],
   "source": [
    "#plot bar sudeste\n",
    "plt.bar(sudeste, total_estado_sudeste, align='center', alpha=1, color='Red')\n",
    "plt.ylabel('Total de ocorrências criminais')\n",
    "plt.title('Ocorrências criminais da região Sudeste - período de 2015 a 2018')\n",
    "plt.show()"
   ]
  },
  {
   "cell_type": "markdown",
   "metadata": {},
   "source": [
    "#### 6.2. Ocorrências criminais da região Sul - entre os anos de 2015 a 2018."
   ]
  },
  {
   "cell_type": "code",
   "execution_count": 7,
   "metadata": {},
   "outputs": [
    {
     "data": {
      "image/png": "[encoded data removed]",
      "text/plain": [
       "<Figure size 432x288 with 1 Axes>"
      ]
     },
     "metadata": {
      "needs_background": "light"
     },
     "output_type": "display_data"
    }
   ],
   "source": [
    "#plot bar sul\n",
    "plt.bar(sul, total_estado_sul, align='center', alpha=1, color='Orange')\n",
    "plt.ylabel('Total de ocorrências criminais')\n",
    "plt.title('Ocorrências criminais da região Sul - período de 2015 a 2018')\n",
    "plt.show()"
   ]
  },
  {
   "cell_type": "markdown",
   "metadata": {},
   "source": [
    "#### 6.3. Ocorrências criminais da região Centro-Oeste - entre os anos de 2015 a 2018."
   ]
  },
  {
   "cell_type": "code",
   "execution_count": 8,
   "metadata": {},
   "outputs": [
    {
     "data": {
      "image/png": "[encoded data removed]",
      "text/plain": [
       "<Figure size 432x288 with 1 Axes>"
      ]
     },
     "metadata": {
      "needs_background": "light"
     },
     "output_type": "display_data"
    }
   ],
   "source": [
    "#plot bar centro\n",
    "plt.bar(centro, total_estado_centro, align='center', alpha=1, color='Yellow')\n",
    "plt.ylabel('Total de ocorrências criminais')\n",
    "plt.title('Ocorrências criminais da região Centro-Oeste - período de 2015 a 2018')\n",
    "plt.show()"
   ]
  },
  {
   "cell_type": "markdown",
   "metadata": {},
   "source": [
    "#### 6.4. Ocorrências criminais da região Nordeste - entre os anos de 2015 a 2018."
   ]
  },
  {
   "cell_type": "code",
   "execution_count": 9,
   "metadata": {},
   "outputs": [
    {
     "data": {
      "image/png": "[encoded data removed]",
      "text/plain": [
       "<Figure size 432x288 with 1 Axes>"
      ]
     },
     "metadata": {
      "needs_background": "light"
     },
     "output_type": "display_data"
    }
   ],
   "source": [
    "#plot bar nordeste\n",
    "plt.bar(nordeste, total_estado_nordeste, align='center', alpha=1, color='Blue')\n",
    "plt.ylabel('Total de ocorrências criminais')\n",
    "plt.title('Ocorrências criminais da região Nordeste - período de 2015 a 2018')\n",
    "plt.show()"
   ]
  },
  {
   "cell_type": "markdown",
   "metadata": {},
   "source": [
    "#### 6.5. Ocorrências criminais da região Norte - entre os anos de 2015 a 2018."
   ]
  },
  {
   "cell_type": "code",
   "execution_count": 10,
   "metadata": {},
   "outputs": [
    {
     "data": {
      "image/png": "[encoded data removed]",
      "text/plain": [
       "<Figure size 432x288 with 1 Axes>"
      ]
     },
     "metadata": {
      "needs_background": "light"
     },
     "output_type": "display_data"
    }
   ],
   "source": [
    "#plot bar norte\n",
    "plt.bar(norte, total_estado_norte, align='center', alpha=1, color='Green')\n",
    "plt.ylabel('Total de ocorrências criminais')\n",
    "plt.title('Ocorrências criminais da região Norte - período de 2015 a 2018')\n",
    "plt.show()"
   ]
  },
  {
   "cell_type": "markdown",
   "metadata": {},
   "source": [
    "#### authors: Fabrício da Cunha Vasconcellos, Jonatas dos Reis, Samuel Xavier     \n",
    "#### database: http://dados.gov.br/dataset/sistema-nacional-de-estatisticas-de-seguranca-publica\n",
    "#### format: *.xlsx*\n",
    "#### libs: pandas, matplotlib"
   ]
  }
 ],
 "metadata": {
  "celltoolbar": "Raw Cell Format",
  "kernelspec": {
   "display_name": "Python 3",
   "language": "python",
   "name": "python3"
  },
  "language_info": {
   "codemirror_mode": {
    "name": "ipython",
    "version": 3
   },
   "file_extension": ".py",
   "mimetype": "text/x-python",
   "name": "python",
   "nbconvert_exporter": "python",
   "pygments_lexer": "ipython3",
   "version": "3.7.3"
  }
 },
 "nbformat": 4,
 "nbformat_minor": 2
}
